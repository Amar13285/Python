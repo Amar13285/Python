{
 "cells": [
  {
   "cell_type": "code",
   "execution_count": 8,
   "metadata": {},
   "outputs": [
    {
     "name": "stdout",
     "output_type": "stream",
     "text": [
      "All-convoys-9-be:Alert1.\n",
      "4\n",
      "Epp-gsrzscw-3-fi:Epivx5.\n"
     ]
    }
   ],
   "source": [
    "s=input()\n",
    "n=int(input())\n",
    "r=''\n",
    "for i in s:\n",
    "    if(ord(i)>=65 and ord(i)<=90):\n",
    "        r+=chr((((ord(i)-65)+n)%26)+65)\n",
    "    elif (ord(i)>=97 and ord(i)<=122): \n",
    "        r+=chr((((ord(i)-97)+n)%26)+97)\n",
    "    elif (ord(i)>=48 and ord(i)<=57):\n",
    "        r+=chr((((ord(i)-48)+n)%10)+48)\n",
    "    else:\n",
    "        r+=i\n",
    "print(r)        \n",
    "  "
   ]
  },
  {
   "cell_type": "markdown",
   "metadata": {},
   "source": [
    "### FILE HANDLING\n",
    "-store the information or collection of data stored in local disk\n",
    "-files are 2 types\n",
    "    1.text files\n",
    "    2.binary files\n",
    "1.test files EX:-.txt,.py,.mp3 user understandble \n",
    "2.binary files EX:- mechine understandble language\n",
    "\n",
    "-FILE HANDLING:-\n",
    "   1.create files or enter data into files\n",
    "   2.read data or access data\n",
    "   3.update data or append data\n",
    "   4.remove file\n",
    "# IMPORTANT NODES I FILE HANDLING   \n",
    "1.WRITE MODE('W'):-\n",
    "     -create files and enter data into files\n",
    "2.READ MODE('R')\n",
    "     -used for read data from existed files\n",
    "3.append mode('a')\n",
    "     -used for add data into existed file\n",
    "# syntax\n",
    "#'''python\n",
    "fh = open('file location','mode')\n",
    "'''\n",
    "\n"
   ]
  },
  {
   "cell_type": "code",
   "execution_count": 12,
   "metadata": {},
   "outputs": [],
   "source": [
    "# 1.create files\n",
    "import os\n",
    "# checking (current working directory=CWD)\n",
    "os.getcwd()\n",
    "#change directory\n",
    "os.chdir('C://Users/AMARNATH/Desktop')"
   ]
  },
  {
   "cell_type": "code",
   "execution_count": 11,
   "metadata": {},
   "outputs": [
    {
     "data": {
      "text/plain": [
       "'C:\\\\Users\\\\AMARNATH\\\\Desktop'"
      ]
     },
     "execution_count": 11,
     "metadata": {},
     "output_type": "execute_result"
    }
   ],
   "source": [
    "os.getcwd()"
   ]
  },
  {
   "cell_type": "markdown",
   "metadata": {},
   "source": [
    "[ALT+P] to get previous commands(or) gou to the command location and precess enter to get the  command down"
   ]
  },
  {
   "cell_type": "markdown",
   "metadata": {},
   "source": [
    "# 1.create a file\n",
    "f1= open('amarnath.txt')"
   ]
  },
  {
   "cell_type": "code",
   "execution_count": 13,
   "metadata": {},
   "outputs": [],
   "source": [
    "f1= open('amarnath.txt','w')\n",
    "f1.close()"
   ]
  },
  {
   "cell_type": "code",
   "execution_count": 14,
   "metadata": {},
   "outputs": [
    {
     "data": {
      "text/plain": [
       "['.ipynb_checkpoints',\n",
       " '4k-joker-ry-1920x1080.jpg',\n",
       " 'adobe',\n",
       " 'Adobe After Effects 2020.lnk',\n",
       " 'Adobe Premiere Pro 2020.lnk',\n",
       " 'amarnath.txt',\n",
       " 'Anaconda3-2020.11-Windows-x86_64.exe',\n",
       " 'desktop.ini',\n",
       " 'Epic Games Launcher.lnk',\n",
       " 'New folder',\n",
       " 'python workshop',\n",
       " 'youtube videos',\n",
       " 'µTorrent.lnk']"
      ]
     },
     "execution_count": 14,
     "metadata": {},
     "output_type": "execute_result"
    }
   ],
   "source": [
    "os.listdir()"
   ]
  },
  {
   "cell_type": "code",
   "execution_count": 16,
   "metadata": {},
   "outputs": [],
   "source": [
    "f1= open('namratha.txt','w')\n",
    "f1.close()"
   ]
  },
  {
   "cell_type": "code",
   "execution_count": 17,
   "metadata": {},
   "outputs": [
    {
     "data": {
      "text/plain": [
       "['.ipynb_checkpoints',\n",
       " '4k-joker-ry-1920x1080.jpg',\n",
       " 'adobe',\n",
       " 'Adobe After Effects 2020.lnk',\n",
       " 'Adobe Premiere Pro 2020.lnk',\n",
       " 'amarnath.txt',\n",
       " 'Anaconda3-2020.11-Windows-x86_64.exe',\n",
       " 'desktop.ini',\n",
       " 'Epic Games Launcher.lnk',\n",
       " 'namratha.txt',\n",
       " 'New folder',\n",
       " 'python workshop',\n",
       " 'youtube videos',\n",
       " 'µTorrent.lnk']"
      ]
     },
     "execution_count": 17,
     "metadata": {},
     "output_type": "execute_result"
    }
   ],
   "source": [
    "os.listdir()"
   ]
  },
  {
   "cell_type": "code",
   "execution_count": 23,
   "metadata": {},
   "outputs": [],
   "source": [
    "#2. write data into file\n",
    "f1= open('amarnath.txt','w')\n",
    "f1.write('org:APSSDC \\nest:2013 \\naddress:guntur')\n",
    "f1.close()"
   ]
  },
  {
   "cell_type": "code",
   "execution_count": 25,
   "metadata": {},
   "outputs": [
    {
     "name": "stdout",
     "output_type": "stream",
     "text": [
      "org:APSSDC \n",
      "est:2013 \n",
      "address:guntur\n"
     ]
    }
   ],
   "source": [
    "#3. read data from existed file \n",
    "f3=open('amarnath.txt','r')\n",
    "data=f3.read()\n",
    "print(data)\n",
    "f3.close()"
   ]
  },
  {
   "cell_type": "code",
   "execution_count": 31,
   "metadata": {},
   "outputs": [],
   "source": [
    "#4. add data into existed file\n",
    "f3=open('amarnath.txt','a')\n",
    "\n",
    "f3.write('\\nstate:andra pradesh')\n",
    "f3.close()"
   ]
  },
  {
   "cell_type": "code",
   "execution_count": 34,
   "metadata": {},
   "outputs": [
    {
     "name": "stdout",
     "output_type": "stream",
     "text": [
      "org:APSSDC \n",
      "est:2013 \n",
      "address:guntur\n",
      "state:andra pradesh\n",
      "state:andra pradesh\n"
     ]
    }
   ],
   "source": [
    "f3=open('amarnath.txt','r')\n",
    "d=f3.read()\n",
    "print(d)\n",
    "f3.close()"
   ]
  },
  {
   "cell_type": "code",
   "execution_count": 39,
   "metadata": {},
   "outputs": [],
   "source": [
    "f3=open('amar.txt','w')\n",
    "f3.write('org:APSSDC \\nst:2013 \\naddress:guntur')\n",
    "f3.close()\n"
   ]
  },
  {
   "cell_type": "code",
   "execution_count": 40,
   "metadata": {},
   "outputs": [
    {
     "name": "stdout",
     "output_type": "stream",
     "text": [
      "org:APSSDC \n",
      "st:2013 \n",
      "address:guntur\n"
     ]
    }
   ],
   "source": [
    "f3=open('amar.txt','r')\n",
    "data=f3.read()\n",
    "print(data)\n",
    "f3.close()"
   ]
  },
  {
   "cell_type": "code",
   "execution_count": 41,
   "metadata": {},
   "outputs": [],
   "source": [
    "f3=open('amar.txt','w')\n",
    "f3.write('org:APSSDC \\nst:2013 \\naddress:guntur \\npincode:522402')\n",
    "f3.close()"
   ]
  },
  {
   "cell_type": "code",
   "execution_count": 42,
   "metadata": {
    "scrolled": true
   },
   "outputs": [
    {
     "name": "stdout",
     "output_type": "stream",
     "text": [
      "org:APSSDC \n",
      "st:2013 \n",
      "address:guntur \n",
      "pincode:522402\n"
     ]
    }
   ],
   "source": [
    "f3=open('amar.txt','r')\n",
    "data=f3.read()\n",
    "print(data)\n",
    "f3.close()"
   ]
  },
  {
   "cell_type": "code",
   "execution_count": 44,
   "metadata": {},
   "outputs": [
    {
     "name": "stdout",
     "output_type": "stream",
     "text": [
      "org:APSSDC \n",
      "est:2013 \n",
      "address:guntur\n",
      "org:APSSDC \n",
      "est:2013 \n",
      "address:guntur\n",
      "state:andra pradesh\n"
     ]
    }
   ],
   "source": [
    "#write data into file\n",
    "f1= open('amarnath.txt','w')\n",
    "f1.write('org:APSSDC \\nest:2013 \\naddress:guntur')\n",
    "f1.close()\n",
    "\n",
    "#read data to file\n",
    "f3=open('amarnath.txt','r')\n",
    "data=f3.read()\n",
    "print(data)\n",
    "f3.close()\n",
    "\n",
    "#append data into existed file\n",
    "f3=open('amarnath.txt','a')\n",
    "f3.write('\\nstate:andra pradesh')\n",
    "f3.close()\n",
    "\n",
    "# read data from file\n",
    "f3=open('amarnath.txt','r')\n",
    "d=f3.read()\n",
    "print(d)\n",
    "f3.close()\n",
    "\n"
   ]
  },
  {
   "cell_type": "code",
   "execution_count": 1,
   "metadata": {},
   "outputs": [
    {
     "data": {
      "text/plain": [
       "30"
      ]
     },
     "execution_count": 1,
     "metadata": {},
     "output_type": "execute_result"
    }
   ],
   "source": [
    "def function(a,b):\n",
    "    c = a+b\n",
    "    return c\n",
    "function(10,20)"
   ]
  },
  {
   "cell_type": "code",
   "execution_count": 5,
   "metadata": {},
   "outputs": [
    {
     "name": "stdout",
     "output_type": "stream",
     "text": [
      "12\n",
      "21\n",
      "45\n",
      "78\n"
     ]
    }
   ],
   "source": [
    "x = lambda a,b,c:a+b+c\n",
    "a=int(input()) \n",
    "b=int(input()) \n",
    "c=int(input()) \n",
    "print(x(a,b,c))"
   ]
  },
  {
   "cell_type": "code",
   "execution_count": 6,
   "metadata": {},
   "outputs": [
    {
     "data": {
      "text/plain": [
       "600"
      ]
     },
     "execution_count": 6,
     "metadata": {},
     "output_type": "execute_result"
    }
   ],
   "source": [
    "30*20\n"
   ]
  },
  {
   "cell_type": "code",
   "execution_count": 7,
   "metadata": {},
   "outputs": [
    {
     "data": {
      "text/plain": [
       "20"
      ]
     },
     "execution_count": 7,
     "metadata": {},
     "output_type": "execute_result"
    }
   ],
   "source": [
    "40-20\n"
   ]
  },
  {
   "cell_type": "code",
   "execution_count": 8,
   "metadata": {},
   "outputs": [
    {
     "data": {
      "text/plain": [
       "78"
      ]
     },
     "execution_count": 8,
     "metadata": {},
     "output_type": "execute_result"
    }
   ],
   "source": [
    "x(a,b,c)"
   ]
  },
  {
   "cell_type": "code",
   "execution_count": 14,
   "metadata": {},
   "outputs": [
    {
     "name": "stdout",
     "output_type": "stream",
     "text": [
      "True even\n"
     ]
    }
   ],
   "source": [
    "s=lambda x:x%2==0           # its is function by itself  \n",
    "\n",
    "print(s(6), \"even\")"
   ]
  },
  {
   "cell_type": "markdown",
   "metadata": {},
   "source": [
    "### map\n",
    "***syntax***:map(function,iterable)"
   ]
  },
  {
   "cell_type": "code",
   "execution_count": 12,
   "metadata": {},
   "outputs": [
    {
     "data": {
      "text/plain": [
       "<map at 0x171051bf5e0>"
      ]
     },
     "execution_count": 12,
     "metadata": {},
     "output_type": "execute_result"
    }
   ],
   "source": [
    "map(s,[2,3,4,5])"
   ]
  },
  {
   "cell_type": "code",
   "execution_count": 13,
   "metadata": {},
   "outputs": [
    {
     "data": {
      "text/plain": [
       "[True, False, True, False]"
      ]
     },
     "execution_count": 13,
     "metadata": {},
     "output_type": "execute_result"
    }
   ],
   "source": [
    "list(map(s,[2,3,4,5]))"
   ]
  },
  {
   "cell_type": "code",
   "execution_count": null,
   "metadata": {},
   "outputs": [],
   "source": [
    "list(map(s,[2,3,4,5]))"
   ]
  }
 ],
 "metadata": {
  "kernelspec": {
   "display_name": "Python 3",
   "language": "python",
   "name": "python3"
  },
  "language_info": {
   "codemirror_mode": {
    "name": "ipython",
    "version": 3
   },
   "file_extension": ".py",
   "mimetype": "text/x-python",
   "name": "python",
   "nbconvert_exporter": "python",
   "pygments_lexer": "ipython3",
   "version": "3.8.5"
  }
 },
 "nbformat": 4,
 "nbformat_minor": 4
}

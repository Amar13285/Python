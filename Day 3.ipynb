{
 "cells": [
  {
   "cell_type": "code",
   "execution_count": 16,
   "metadata": {},
   "outputs": [
    {
     "name": "stdout",
     "output_type": "stream",
     "text": [
      "sum of even numbers10\n",
      "30\n"
     ]
    }
   ],
   "source": [
    "n=int(input(\"sum of even numbers\"))\n",
    "sum=0\n",
    "for i in range(2,n+1,2):\n",
    "    sum+=i\n",
    "print(sum)"
   ]
  },
  {
   "cell_type": "code",
   "execution_count": 10,
   "metadata": {},
   "outputs": [
    {
     "name": "stdout",
     "output_type": "stream",
     "text": [
      "mul of even numers1\n",
      "1\n"
     ]
    }
   ],
   "source": [
    "n=int(input(\"mul of even numers\"))\n",
    "mul=1\n",
    "for i in range(2,n*1,2):\n",
    "    mul*=i\n",
    "print(mul)"
   ]
  },
  {
   "cell_type": "code",
   "execution_count": 13,
   "metadata": {},
   "outputs": [
    {
     "name": "stdout",
     "output_type": "stream",
     "text": [
      "enter max value5\n",
      "{0} 2\n",
      "{0} 4\n"
     ]
    }
   ],
   "source": [
    "maximum = int(input(\"enter max value\"))\n",
    "total = 0\n",
    "number = 1\n",
    "while number <= maximum:\n",
    "    if(number % 2 == 0):\n",
    "        print(\"{0}\",format(number))\n",
    "        total= total + number\n",
    "    number = number + 1\n",
    "    "
   ]
  },
  {
   "cell_type": "code",
   "execution_count": 9,
   "metadata": {},
   "outputs": [
    {
     "name": "stdout",
     "output_type": "stream",
     "text": [
      "Total digits found :- 0\n"
     ]
    }
   ],
   "source": [
    " all_digits = ['0', '1', '2', '3', '4', '5', '6', '7', '8', '9'] \n",
    "total_digits = 0\n",
    "for s in string: \n",
    "  \n",
    "    if s in all_digits: \n",
    "        total_digits += 1\n",
    "print(\"Total digits found :-\", total_digits) "
   ]
  },
  {
   "cell_type": "code",
   "execution_count": 15,
   "metadata": {},
   "outputs": [
    {
     "name": "stdout",
     "output_type": "stream",
     "text": [
      "10\n",
      "2\n"
     ]
    }
   ],
   "source": [
    "n=int(input())    #no.of digits\n",
    "digits=0\n",
    "while(n>0):\n",
    "    digits=digits+1\n",
    "    n=n//10\n",
    "print(digits)    "
   ]
  },
  {
   "cell_type": "code",
   "execution_count": 17,
   "metadata": {},
   "outputs": [
    {
     "name": "stdout",
     "output_type": "stream",
     "text": [
      "24569\n",
      "2 9\n",
      "18\n"
     ]
    }
   ],
   "source": [
    "n=int(input())   #identify last&first numbers\n",
    "last=0\n",
    "first=0\n",
    "product=1\n",
    "last=n%10\n",
    "while(n>0):\n",
    "    first=n\n",
    "    n=n//10\n",
    "print(first,last)    \n",
    "product=last*first\n",
    "print(product)\n",
    "    \n",
    "    "
   ]
  },
  {
   "cell_type": "code",
   "execution_count": 23,
   "metadata": {},
   "outputs": [
    {
     "name": "stdout",
     "output_type": "stream",
     "text": [
      "55\n",
      "divisable\n"
     ]
    }
   ],
   "source": [
    "n=int(input())\n",
    "if n%5==0 and n%11==0:\n",
    "    print(\"divisable\")\n",
    "else:\n",
    "    print(\"non divisable\")"
   ]
  },
  {
   "cell_type": "code",
   "execution_count": 30,
   "metadata": {},
   "outputs": [
    {
     "name": "stdout",
     "output_type": "stream",
     "text": [
      "1000250002\n",
      "61\n",
      "no\n"
     ]
    }
   ],
   "source": [
    "n=int(input())\n",
    "digits=0\n",
    "temp=n\n",
    "sum1=0\n",
    "while(n>0):\n",
    "    digits=digits+1\n",
    "    n=n//10\n",
    "if(digits==10):\n",
    "    i=10\n",
    "    while(i>0):\n",
    "        r=temp%10\n",
    "        sum1=sum1+(i*r)\n",
    "        i=i-1\n",
    "        temp=temp//10\n",
    "    print(sum1)\n",
    "    if(sum1%11==0):\n",
    "        print(\"yes\")\n",
    "    else:\n",
    "        print(\"no\")\n",
    "else:\n",
    "        print(\"no\")\n"
   ]
  },
  {
   "cell_type": "code",
   "execution_count": null,
   "metadata": {},
   "outputs": [],
   "source": []
  }
 ],
 "metadata": {
  "kernelspec": {
   "display_name": "Python 3",
   "language": "python",
   "name": "python3"
  },
  "language_info": {
   "codemirror_mode": {
    "name": "ipython",
    "version": 3
   },
   "file_extension": ".py",
   "mimetype": "text/x-python",
   "name": "python",
   "nbconvert_exporter": "python",
   "pygments_lexer": "ipython3",
   "version": "3.8.5"
  }
 },
 "nbformat": 4,
 "nbformat_minor": 4
}

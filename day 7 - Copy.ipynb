{
 "cells": [
  {
   "cell_type": "code",
   "execution_count": 1,
   "metadata": {},
   "outputs": [],
   "source": [
    "# to remove duplicate values \n",
    "s1=[1,1,2,3,4,5,6,4,3,2]\n",
    "z=set(s1)"
   ]
  },
  {
   "cell_type": "code",
   "execution_count": 2,
   "metadata": {},
   "outputs": [
    {
     "data": {
      "text/plain": [
       "{1, 2, 3, 4, 5, 6}"
      ]
     },
     "execution_count": 2,
     "metadata": {},
     "output_type": "execute_result"
    }
   ],
   "source": [
    "z"
   ]
  },
  {
   "cell_type": "code",
   "execution_count": 3,
   "metadata": {},
   "outputs": [
    {
     "data": {
      "text/plain": [
       "set"
      ]
     },
     "execution_count": 3,
     "metadata": {},
     "output_type": "execute_result"
    }
   ],
   "source": [
    "type(z)"
   ]
  },
  {
   "cell_type": "code",
   "execution_count": 5,
   "metadata": {},
   "outputs": [
    {
     "name": "stdout",
     "output_type": "stream",
     "text": [
      "['__and__', '__class__', '__contains__', '__delattr__', '__dir__', '__doc__', '__eq__', '__format__', '__ge__', '__getattribute__', '__gt__', '__hash__', '__iand__', '__init__', '__init_subclass__', '__ior__', '__isub__', '__iter__', '__ixor__', '__le__', '__len__', '__lt__', '__ne__', '__new__', '__or__', '__rand__', '__reduce__', '__reduce_ex__', '__repr__', '__ror__', '__rsub__', '__rxor__', '__setattr__', '__sizeof__', '__str__', '__sub__', '__subclasshook__', '__xor__', 'add', 'clear', 'copy', 'difference', 'difference_update', 'discard', 'intersection', 'intersection_update', 'isdisjoint', 'issubset', 'issuperset', 'pop', 'remove', 'symmetric_difference', 'symmetric_difference_update', 'union', 'update']\n"
     ]
    }
   ],
   "source": [
    "print(dir(set))"
   ]
  },
  {
   "cell_type": "code",
   "execution_count": 5,
   "metadata": {},
   "outputs": [
    {
     "name": "stdout",
     "output_type": "stream",
     "text": [
      "enter starting point of house7\n",
      "enter ending point of the house10\n",
      "enter apple tree locaton4\n",
      "enter orange tree location12\n",
      "enter no.of apples3\n",
      "enter o.of oranges3\n",
      "enter fruit destience apples2\n",
      "enter fruit destience apples3\n",
      "enter fruit destience apples-4\n",
      "enter fruit destience of oranges3\n",
      "enter fruit destience of oranges-2\n",
      "enter fruit destience of oranges-4\n",
      "1 2\n"
     ]
    }
   ],
   "source": [
    "#  find the no.of  fruits in the house\n",
    "s=int(input(\"enter starting point of house\"))\n",
    "t=int(input(\"enter ending point of the house\"))\n",
    "a=int(input(\"enter apple tree locaton\"))\n",
    "b=int(input(\"enter orange tree location\"))\n",
    "m=int(input(\"enter no.of apples\"))\n",
    "n=int(input(\"enter o.of oranges\"))\n",
    "ad=[]\n",
    "od=[]\n",
    "count1=0\n",
    "count2=0\n",
    "for i in range(m):\n",
    "    d=int(input(\"enter fruit destience apples\"))\n",
    "    if((a+d)>=s and (a+d)<=t):\n",
    "        count1=count1+1\n",
    "    ad.append(d)\n",
    "for j in range(n):\n",
    "    d2=int(input(\"enter fruit destience of oranges\"))\n",
    "    if((b+d2)>=s and (b+d2)<=t):\n",
    "        count2=count2+1\n",
    "    od.append(d2)\n",
    "print(count1,count2)"
   ]
  },
  {
   "cell_type": "code",
   "execution_count": 34,
   "metadata": {},
   "outputs": [
    {
     "name": "stdout",
     "output_type": "stream",
     "text": [
      "enter n value5\n",
      "*   *   *   *   *   1\n",
      "*   *   *   *   *   2\n",
      "*   *   *   *   *   3\n",
      "*   *   *   *   *   4\n",
      "*   *   *   *   *   5\n"
     ]
    }
   ],
   "source": [
    "#star patttern\n",
    "n=int(input(\"enter n value\"))\n",
    "for i in range(1,n+1):\n",
    "    for j in range(1,n+1):\n",
    "        print(\"*\",end=\"   \")\n",
    "    print(i)"
   ]
  },
  {
   "cell_type": "markdown",
   "metadata": {},
   "source": [
    "regular expressions:-\n",
    "    imporing regular expression package\n",
    "       methods:\n",
    "          *search\n",
    "          *match\n",
    "          *findall\n",
    "         **syntax:**re.method_name(\"string\")"
   ]
  },
  {
   "cell_type": "code",
   "execution_count": 2,
   "metadata": {},
   "outputs": [
    {
     "name": "stdout",
     "output_type": "stream",
     "text": [
      "5\n",
      "* * * * * \n",
      "*       * \n",
      "*       * \n",
      "*       * \n",
      "* * * * * \n"
     ]
    }
   ],
   "source": [
    "#hallow square pattern\n",
    "n=int(input())\n",
    "for i in range(1,n+1):\n",
    "    for j in range(1,n+1):\n",
    "        if (i==1 or j==1 or i==n or j==n):\n",
    "            print(\"*\",end=' ')\n",
    "        else:\n",
    "            print(\" \",end=' ')\n",
    "    print()"
   ]
  },
  {
   "cell_type": "code",
   "execution_count": 29,
   "metadata": {},
   "outputs": [
    {
     "name": "stdout",
     "output_type": "stream",
     "text": [
      "5\n",
      "1 \n",
      "1 2 \n",
      "1 2 3 \n",
      "1 2 3 4 \n",
      "1 2 3 4 5 \n"
     ]
    }
   ],
   "source": [
    "n=int(input())\n",
    "for i in range(1,n+1):\n",
    "    for j in range(1,i+1):\n",
    "            print(j,end=' ')\n",
    "    print()"
   ]
  },
  {
   "cell_type": "code",
   "execution_count": 30,
   "metadata": {},
   "outputs": [
    {
     "name": "stdout",
     "output_type": "stream",
     "text": [
      "5\n",
      "1 1 1 1 1 \n",
      "0 0 0 0 0 \n",
      "1 1 1 1 1 \n",
      "0 0 0 0 0 \n",
      "1 1 1 1 1 \n"
     ]
    }
   ],
   "source": [
    "n=int(input())\n",
    "for i in range(1,n+1):\n",
    "    for j in range(1,n+1):\n",
    "        if i%2==0:\n",
    "            print('0',end=' ')\n",
    "        else:\n",
    "            print('1',end=' ')\n",
    "    print()     "
   ]
  },
  {
   "cell_type": "code",
   "execution_count": 37,
   "metadata": {},
   "outputs": [
    {
     "name": "stdout",
     "output_type": "stream",
     "text": [
      "11 22 33 44 555 66 77 88 99\n"
     ]
    },
    {
     "data": {
      "text/plain": [
       "[11, 22, 33, 44, 555, 66, 77, 88, 99]"
      ]
     },
     "execution_count": 37,
     "metadata": {},
     "output_type": "execute_result"
    }
   ],
   "source": [
    "#mapping:-dividing and adding of elements in a single line \n",
    "l=list(map(int,input().split()))\n",
    "l"
   ]
  },
  {
   "cell_type": "code",
   "execution_count": 27,
   "metadata": {},
   "outputs": [
    {
     "name": "stdout",
     "output_type": "stream",
     "text": [
      "5\n"
     ]
    }
   ],
   "source": [
    "#hallow square pattern\n",
    "n=int(input())\n",
    "for i in range(1,n+1):\n",
    "    for j in range(i):\n",
    "            print(\"*\",end=' ')\n",
    "    print()"
   ]
  },
  {
   "cell_type": "code",
   "execution_count": 9,
   "metadata": {},
   "outputs": [
    {
     "data": {
      "text/plain": [
       "<re.Match object; span=(2, 4), match='ss'>"
      ]
     },
     "execution_count": 9,
     "metadata": {},
     "output_type": "execute_result"
    }
   ],
   "source": [
    "import re\n",
    "\n",
    "#search method \n",
    "\n",
    "re.search(\"ss\",\"apssdc\")"
   ]
  },
  {
   "cell_type": "code",
   "execution_count": 9,
   "metadata": {},
   "outputs": [
    {
     "name": "stdout",
     "output_type": "stream",
     "text": [
      "<re.Match object; span=(2, 4), match='ss'>\n",
      "<re.Match object; span=(4, 5), match='d'>\n"
     ]
    }
   ],
   "source": [
    "import re\n",
    "\n",
    "#search method \n",
    "\n",
    "print(re.search(\"ss\",\"apssdc\"))\n",
    "print(re.search(\"d\",\"apssdc\"))\n",
    "re.search(\"ds\",\"apssdc\")"
   ]
  },
  {
   "cell_type": "code",
   "execution_count": 10,
   "metadata": {},
   "outputs": [
    {
     "name": "stdout",
     "output_type": "stream",
     "text": [
      "<re.Match object; span=(2, 4), match='ss'>\n",
      "<re.Match object; span=(4, 6), match='dc'>\n",
      "<re.Match object; span=(0, 2), match='ap'>\n"
     ]
    }
   ],
   "source": [
    "#match method\n",
    "print(re.search(\"ss\",\"apssdc\"))\n",
    "print(re.search(\"dc\",\"apssdc\"))\n",
    "print(re.match(\"ap\",\"apssdc\"))"
   ]
  },
  {
   "cell_type": "code",
   "execution_count": 11,
   "metadata": {},
   "outputs": [
    {
     "name": "stdout",
     "output_type": "stream",
     "text": [
      "<re.Match object; span=(2, 4), match='ss'>\n"
     ]
    }
   ],
   "source": [
    "print(re.search(\"ss\",\"apssdcsscdss\"))"
   ]
  },
  {
   "cell_type": "code",
   "execution_count": 12,
   "metadata": {},
   "outputs": [
    {
     "name": "stdout",
     "output_type": "stream",
     "text": [
      "<re.Match object; span=(2, 4), match='ss'>\n",
      "['ss', 'ss', 'ss', 'ss', 'ss', 'ss']\n"
     ]
    }
   ],
   "source": [
    "# findall method\n",
    "print(re.search(\"ss\",\"apssdc\"))\n",
    "print(re.findall(\"ss\",\"apssdcssdcssccddssiiissss\"))"
   ]
  },
  {
   "cell_type": "markdown",
   "metadata": {},
   "source": [
    "<img src=\"https://www.morevisibility.com/wp-content/uploads/regular-expression-examples-for-google-analytics-2.jpeg\">"
   ]
  },
  {
   "cell_type": "code",
   "execution_count": 13,
   "metadata": {},
   "outputs": [
    {
     "data": {
      "text/plain": [
       "<re.Match object; span=(0, 4), match='AMAR'>"
      ]
     },
     "execution_count": 13,
     "metadata": {},
     "output_type": "execute_result"
    }
   ],
   "source": [
    "#Dot symbol\n",
    "\n",
    "import re\n",
    "re.search(\"....\",\"AMARNATH\")"
   ]
  },
  {
   "cell_type": "code",
   "execution_count": 14,
   "metadata": {},
   "outputs": [
    {
     "name": "stdout",
     "output_type": "stream",
     "text": [
      "<re.Match object; span=(0, 8), match='APSSDC W'>\n"
     ]
    }
   ],
   "source": [
    "##{}\n",
    "print(re.search(\".{2,8}\",\"APSSDC WORKSHOP\"))"
   ]
  },
  {
   "cell_type": "code",
   "execution_count": 15,
   "metadata": {},
   "outputs": [
    {
     "name": "stdout",
     "output_type": "stream",
     "text": [
      "<re.Match object; span=(0, 8), match='APSSDC W'>\n",
      "<re.Match object; span=(0, 3), match='APS'>\n",
      "None\n"
     ]
    }
   ],
   "source": [
    "##{}\n",
    "print(re.search(\".{2,8}\",\"APSSDC WORKSHOP\"))\n",
    "print(re.search(\".{1,8}\",\"APS\"))\n",
    "print(re.search(\".{5,8}\",\"APS\"))"
   ]
  },
  {
   "cell_type": "code",
   "execution_count": 21,
   "metadata": {},
   "outputs": [
    {
     "name": "stdout",
     "output_type": "stream",
     "text": [
      "<re.Match object; span=(0, 2), match='AP'>\n",
      "<re.Match object; span=(2, 4), match='SS'>\n",
      "None\n"
     ]
    }
   ],
   "source": [
    "# ^ symbol\n",
    "\n",
    "print(re.search(\"^AP\",\"APSSDC\"))\n",
    "print(re.search(\"SS\",\"APSSDC\"))\n",
    "print(re.search(\"DZC\",\"APSSDC\"))"
   ]
  },
  {
   "cell_type": "code",
   "execution_count": 17,
   "metadata": {},
   "outputs": [
    {
     "name": "stdout",
     "output_type": "stream",
     "text": [
      "<re.Match object; span=(4, 6), match='dc'>\n",
      "<re.Match object; span=(2, 4), match='dc'>\n",
      "None\n"
     ]
    }
   ],
   "source": [
    "# $\n",
    "\n",
    "print(re.search(\"dc$\",\"apssdc\"))\n",
    "print(re.search(\"dc\",\"apdcss\"))\n",
    "print(re.search(\"$dc\",\"apdcss\"))"
   ]
  },
  {
   "cell_type": "code",
   "execution_count": 18,
   "metadata": {},
   "outputs": [
    {
     "name": "stdout",
     "output_type": "stream",
     "text": [
      "<re.Match object; span=(0, 0), match=''>\n",
      "None\n"
     ]
    }
   ],
   "source": [
    "# *\n",
    "\n",
    "print(re.search(\"I*\",\"apssdc\"))\n",
    "print(re.search(\"I\",\"apssdc\"))"
   ]
  },
  {
   "cell_type": "code",
   "execution_count": 30,
   "metadata": {},
   "outputs": [
    {
     "name": "stdout",
     "output_type": "stream",
     "text": [
      "<re.Match object; span=(2, 3), match='s'>\n",
      "None\n",
      "<re.Match object; span=(3, 5), match='sd'>\n"
     ]
    }
   ],
   "source": [
    "# +\n",
    "\n",
    "print(re.search(\"s+\",\"apsdc\"))\n",
    "print(re.search(\"s+\",\"apdc\"))\n",
    "print(re.search(\"sd+\",\"apssdc\"))"
   ]
  },
  {
   "cell_type": "code",
   "execution_count": 31,
   "metadata": {},
   "outputs": [
    {
     "name": "stdout",
     "output_type": "stream",
     "text": [
      "<re.Match object; span=(0, 1), match='A'>\n",
      "<re.Match object; span=(2, 3), match='D'>\n",
      "<re.Match object; span=(3, 4), match='C'>\n",
      "None\n"
     ]
    }
   ],
   "source": [
    "#[]\n",
    "\n",
    "print(re.search(\"[ADC]\",\"APSSDC\"))\n",
    "print(re.search(\"[ADC]\",\"PSDSC\"))\n",
    "print(re.search(\"[ADC]\",\"PSSC\"))\n",
    "print(re.search(\"[ADC]\",\"SST\"))"
   ]
  },
  {
   "cell_type": "code",
   "execution_count": null,
   "metadata": {},
   "outputs": [],
   "source": []
  }
 ],
 "metadata": {
  "kernelspec": {
   "display_name": "Python 3",
   "language": "python",
   "name": "python3"
  },
  "language_info": {
   "codemirror_mode": {
    "name": "ipython",
    "version": 3
   },
   "file_extension": ".py",
   "mimetype": "text/x-python",
   "name": "python",
   "nbconvert_exporter": "python",
   "pygments_lexer": "ipython3",
   "version": "3.8.5"
  }
 },
 "nbformat": 4,
 "nbformat_minor": 4
}

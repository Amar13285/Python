{
 "cells": [
  {
   "cell_type": "markdown",
   "metadata": {},
   "source": [
    "program for if"
   ]
  },
  {
   "cell_type": "code",
   "execution_count": null,
   "metadata": {},
   "outputs": [],
   "source": [
    "n=int(input(\"enter n value \"))\n",
    "if (n%2==0):\n",
    "    print(\"it is a even number\")\n",
    "else:\n",
    "    print(\"it is a odd number\")"
   ]
  },
  {
   "cell_type": "markdown",
   "metadata": {},
   "source": [
    "program for if else"
   ]
  },
  {
   "cell_type": "code",
   "execution_count": 2,
   "metadata": {},
   "outputs": [
    {
     "name": "stdout",
     "output_type": "stream",
     "text": [
      "enter n value25\n",
      "it is a positive value\n"
     ]
    }
   ],
   "source": [
    "n=int(input(\"enter n value\"))\n",
    "if (n<0):\n",
    "    print(\"it is a negative value\")\n",
    "elif(n>0):\n",
    "    print(\"it is a positive value\")\n",
    "else:\n",
    "    print(\"it is equal to zero\")"
   ]
  },
  {
   "cell_type": "markdown",
   "metadata": {},
   "source": []
  },
  {
   "cell_type": "code",
   "execution_count": 23,
   "metadata": {},
   "outputs": [
    {
     "name": "stdout",
     "output_type": "stream",
     "text": [
      "enter n value5\n",
      "enter m value21\n",
      "NO\n"
     ]
    }
   ],
   "source": [
    "f=int(input(\"enter n value\"))\n",
    "c=int(input(\"enter m value\"))\n",
    "if type(c/f) == int:\n",
    "      print(\"YES\")\n",
    "else:\n",
    "      print(\"NO\")\n"
   ]
  },
  {
   "cell_type": "code",
   "execution_count": 1,
   "metadata": {},
   "outputs": [
    {
     "name": "stdout",
     "output_type": "stream",
     "text": [
      "enter n value2\n",
      "enter m value10\n",
      "yes\n"
     ]
    }
   ],
   "source": [
    "f=int(input(\"enter n value\"))\n",
    "c=int(input(\"enter m value\"))\n",
    "if(c%f==0):\n",
    "    print(\"yes\")\n",
    "else:\n",
    "    print(\"no\")"
   ]
  },
  {
   "cell_type": "code",
   "execution_count": 29,
   "metadata": {},
   "outputs": [
    {
     "name": "stdout",
     "output_type": "stream",
     "text": [
      "enter n value52\n",
      "enter m value52\n",
      "it is equal to zero\n"
     ]
    }
   ],
   "source": [
    "n=int(input(\"enter n value\"))\n",
    "m=int(input(\"enter m value\"))\n",
    "if (n<m):\n",
    "    print(\"it is a small value\")\n",
    "elif(n>m):\n",
    "    print(\"it is a big value\")\n",
    "else:\n",
    "    print(\"it is equal to zero\")"
   ]
  },
  {
   "cell_type": "code",
   "execution_count": 30,
   "metadata": {},
   "outputs": [
    {
     "name": "stdout",
     "output_type": "stream",
     "text": [
      "enter age12\n",
      "after 6 years you can vote\n"
     ]
    }
   ],
   "source": [
    "n=int(input(\"enter age\"))\n",
    "if(n>=18):\n",
    "    print(\"eligible to vote\")\n",
    "else:\n",
    "    print(\"after\",(18-n),\"years you can vote\")"
   ]
  },
  {
   "cell_type": "code",
   "execution_count": 2,
   "metadata": {},
   "outputs": [
    {
     "name": "stdout",
     "output_type": "stream",
     "text": [
      "enter amt value52\n",
      "count no of 10\n"
     ]
    }
   ],
   "source": [
    "amt=int(input(\"enter amt value\"))\n",
    "if amt*10:\n",
    "    print(\"count no of 10\")  \n",
    "elif amt*5:\n",
    "    print(\"count no of 5\")\n",
    "else:\n",
    "    print(\"count no of 1\")\n",
    "   \n",
    "    \n"
   ]
  },
  {
   "cell_type": "code",
   "execution_count": 2,
   "metadata": {},
   "outputs": [
    {
     "name": "stdout",
     "output_type": "stream",
     "text": [
      "enter amt25\n",
      "4\n"
     ]
    }
   ],
   "source": [
    "amt=int(input(\"enter amt\"))\n",
    "n10,c5,c1=0,0,0\n",
    "if (amt>=10):\n",
    "    n10=amt//10  \n",
    "    amt=amt%10\n",
    "if (amt>=5 and amt<=9):\n",
    "    c5=amt//5\n",
    "    amt=amt//5\n",
    "if (amt>=1 and amt<=4):\n",
    "    c1=amt\n",
    "    print(n10+c5+c1)"
   ]
  },
  {
   "cell_type": "code",
   "execution_count": 5,
   "metadata": {},
   "outputs": [
    {
     "name": "stdout",
     "output_type": "stream",
     "text": [
      "ENTER A YEAR200\n",
      "NOT A LEAP\n"
     ]
    }
   ],
   "source": [
    "#leap year\n",
    "year= int(input(\"ENTER A YEAR\"))\n",
    "if (year%400==0) or (year%4==0 and year%100!=0):\n",
    "    print(\"LEAP\")\n",
    "else:\n",
    "  print(\"NOT A LEAP\")  "
   ]
  },
  {
   "cell_type": "code",
   "execution_count": 13,
   "metadata": {},
   "outputs": [
    {
     "name": "stdout",
     "output_type": "stream",
     "text": [
      "0\n",
      "1\n",
      "2\n",
      "3\n",
      "4\n",
      "5\n",
      "6\n",
      "7\n",
      "8\n",
      "9\n"
     ]
    }
   ],
   "source": [
    "# PASING SINGLE PARAMETER\n",
    "for i in range(10):\n",
    "    print(i)"
   ]
  },
  {
   "cell_type": "code",
   "execution_count": 4,
   "metadata": {},
   "outputs": [
    {
     "ename": "IndentationError",
     "evalue": "unexpected indent (<ipython-input-4-ca5ffa59bc46>, line 6)",
     "output_type": "error",
     "traceback": [
      "\u001b[1;36m  File \u001b[1;32m\"<ipython-input-4-ca5ffa59bc46>\"\u001b[1;36m, line \u001b[1;32m6\u001b[0m\n\u001b[1;33m    numlist.append(value)\u001b[0m\n\u001b[1;37m    ^\u001b[0m\n\u001b[1;31mIndentationError\u001b[0m\u001b[1;31m:\u001b[0m unexpected indent\n"
     ]
    }
   ],
   "source": [
    "numlist=0\n",
    "even_sum=0\n",
    "number=int(input(\"total numer of even numbers\"))\n",
    "for i in range (1,number+1):\n",
    "    value=int(input(\"enter the value of %d element\"))\n",
    "      numlist.append(value)\n",
    "        print(\"the sum of even numbers in the list= \",even_sum)"
   ]
  },
  {
   "cell_type": "code",
   "execution_count": null,
   "metadata": {},
   "outputs": [],
   "source": []
  }
 ],
 "metadata": {
  "kernelspec": {
   "display_name": "Python 3",
   "language": "python",
   "name": "python3"
  },
  "language_info": {
   "codemirror_mode": {
    "name": "ipython",
    "version": 3
   },
   "file_extension": ".py",
   "mimetype": "text/x-python",
   "name": "python",
   "nbconvert_exporter": "python",
   "pygments_lexer": "ipython3",
   "version": "3.8.5"
  }
 },
 "nbformat": 4,
 "nbformat_minor": 4
}

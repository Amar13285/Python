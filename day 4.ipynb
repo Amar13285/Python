{
 "cells": [
  {
   "cell_type": "code",
   "execution_count": 3,
   "metadata": {},
   "outputs": [
    {
     "name": "stdout",
     "output_type": "stream",
     "text": [
      "90\n",
      "130\n"
     ]
    }
   ],
   "source": [
    "# electracity bill\n",
    "n=int(input())\n",
    "bill=0\n",
    "if(n>=1 and n<=50):\n",
    "    bill=n*1\n",
    "elif(n>=51 and n<=150):\n",
    "    bill=(n-50)*2+50\n",
    "elif(n>=151 and n<=250):\n",
    "    bill=(n-150)*3+250\n",
    "else:\n",
    "    bill=(n-250)*4+550\n",
    "if(bill<100):\n",
    "    bill=100\n",
    "    print(bill)\n",
    "else:\n",
    "    print(bill)"
   ]
  },
  {
   "cell_type": "code",
   "execution_count": 17,
   "metadata": {},
   "outputs": [
    {
     "name": "stdout",
     "output_type": "stream",
     "text": [
      "telugu   75\n",
      "hindi    75\n",
      "english  75\n",
      "science  75\n",
      "social   75\n",
      "375\n",
      "75\n",
      "B grade\n"
     ]
    }
   ],
   "source": [
    "# class marks\n",
    "a=int(input(\"telugu   \"))\n",
    "b=int(input(\"hindi    \"))\n",
    "c=int(input(\"english  \"))\n",
    "d=int(input(\"science  \"))\n",
    "e=int(input(\"social   \"))\n",
    "sum1=a+b+c+d+e\n",
    "print(sum1)\n",
    "n=sum1//5\n",
    "print(n)\n",
    "if (n>90):\n",
    "    print(\"A grade\")\n",
    "elif(n>=75 and n<=90):\n",
    "    print(\"B grade\")\n",
    "elif(n>=60 and n<=74):\n",
    "    print(\"C grade\")\n",
    "else:\n",
    "    print(\"fail\")\n"
   ]
  },
  {
   "cell_type": "code",
   "execution_count": 30,
   "metadata": {},
   "outputs": [
    {
     "ename": "SyntaxError",
     "evalue": "invalid syntax (<ipython-input-30-94207dfdc5bf>, line 3)",
     "output_type": "error",
     "traceback": [
      "\u001b[1;36m  File \u001b[1;32m\"<ipython-input-30-94207dfdc5bf>\"\u001b[1;36m, line \u001b[1;32m3\u001b[0m\n\u001b[1;33m    if (seat=n%12=1):\u001b[0m\n\u001b[1;37m            ^\u001b[0m\n\u001b[1;31mSyntaxError\u001b[0m\u001b[1;31m:\u001b[0m invalid syntax\n"
     ]
    }
   ],
   "source": [
    "n=int(input())\n",
    "seat=0\n",
    "if (seat=n%12=1):\n",
    "    seat=seat+1\n",
    "elif(sea=3):\n",
    "    seat=seat+2\n",
    "    print(\"seat\")  \n",
    "else(seat=n%12=4\n"
   ]
  },
  {
   "cell_type": "code",
   "execution_count": null,
   "metadata": {},
   "outputs": [],
   "source": [
    "n=int(input())\n",
    "if n%12==1:\n",
    "    n=n+11\n",
    "    print(n,\"ws\")\n"
   ]
  },
  {
   "cell_type": "code",
   "execution_count": 1,
   "metadata": {},
   "outputs": [
    {
     "name": "stdout",
     "output_type": "stream",
     "text": [
      "enter no of test cassess2\n",
      "enter seat number18\n",
      "19 ms\n",
      "enter seat number52\n",
      "57 as\n"
     ]
    }
   ],
   "source": [
    "#train seat finer\n",
    "t=int(input(\"enter no of test cassess\"))\n",
    "for i in range(0,t):\n",
    "    n=int(input(\"enter seat number\"))\n",
    "    if(n%12==0):\n",
    "        print(n-11,\"ws\")\n",
    "    elif(n%12==1): \n",
    "        print(n+11,\"ws\")\n",
    "    elif(n%12==2):\n",
    "        print(n+9,\"ws\")\n",
    "    elif(n%12==3):\n",
    "        print(n+7,\"as\")\n",
    "    elif(n%12==4):\n",
    "        print(n+5,\"as\")\n",
    "    elif(n%12==5):\n",
    "        print(n+3,\"ms\")\n",
    "    elif(n%12==6):\n",
    "        print(n+1,\"ms\")\n",
    "    elif(n%12==7):\n",
    "        print(n-1,\"ws\")\n",
    "    elif(n%12==8):\n",
    "        print(n-3,\"ms\")\n",
    "    elif(n%12==9):\n",
    "        print(n-5,\"as\")\n",
    "    elif(n%12==10):\n",
    "        print(n-7,\"as\")\n",
    "    elif(n%12==11):\n",
    "        print(n-9,\"ms\")\n",
    "        "
   ]
  },
  {
   "cell_type": "code",
   "execution_count": 1,
   "metadata": {},
   "outputs": [
    {
     "name": "stdout",
     "output_type": "stream",
     "text": [
      "enter n value28\n",
      "1  2  4  7  14  28  "
     ]
    }
   ],
   "source": [
    "#factor finding\n",
    "n=int(input(\"enter n value\"))\n",
    "for i in range(1,n+1):\n",
    "    if n%i==0:\n",
    "        print(i,end=\"  \")"
   ]
  },
  {
   "cell_type": "code",
   "execution_count": 3,
   "metadata": {},
   "outputs": [
    {
     "name": "stdout",
     "output_type": "stream",
     "text": [
      "enter n value7\n",
      "it is a prime number\n"
     ]
    }
   ],
   "source": [
    "# finding prime number\n",
    "n=int(input(\"enter n value\"))\n",
    "count=0\n",
    "for i in range(1,n+1):\n",
    "    if n%i==0:\n",
    "        count=count+1\n",
    "if count==2:        \n",
    "        print(\"it is a prime number\")\n",
    "else\n",
    "    print(\"not a prime number\")"
   ]
  },
  {
   "cell_type": "code",
   "execution_count": 50,
   "metadata": {},
   "outputs": [
    {
     "name": "stdout",
     "output_type": "stream",
     "text": [
      "enter n value6\n",
      "perfect number\n"
     ]
    }
   ],
   "source": [
    "#perfect numbers\n",
    "n=int(input(\"enter n value\"))\n",
    "sum1=0\n",
    "for i in range (1,(n//2)+1):\n",
    "    if n%i==0:\n",
    "        sum1=sum1+i\n",
    "if n==sum1:\n",
    "    print(\"perfect number\")\n",
    "else:\n",
    "    print(\"not a perfect number\")"
   ]
  },
  {
   "cell_type": "code",
   "execution_count": 46,
   "metadata": {},
   "outputs": [
    {
     "name": "stdout",
     "output_type": "stream",
     "text": [
      "1\n",
      "10\n",
      "2\n",
      "3\n",
      "5\n",
      "7\n"
     ]
    }
   ],
   "source": [
    "# prime number beetween range\n",
    "n=int(input())\n",
    "m=int(input())\n",
    "for i in range(n,m+1):\n",
    "    count=0 \n",
    "    for j in range(1,i+1):\n",
    "        if i%j==0:\n",
    "            count=count+1\n",
    "    if count==2:        \n",
    "        print(i)\n"
   ]
  },
  {
   "cell_type": "code",
   "execution_count": 3,
   "metadata": {},
   "outputs": [
    {
     "name": "stdout",
     "output_type": "stream",
     "text": [
      "1\n",
      "60\n",
      "6\n",
      "28\n"
     ]
    }
   ],
   "source": [
    "#perfect numbers beetween range\n",
    "n=int(input())\n",
    "m=int(input())\n",
    "for i in range(n,m+1):\n",
    "    sum1=0\n",
    "    for j in range (1,(i//2)+1):\n",
    "        if i%j==0:\n",
    "            sum1=sum1+j\n",
    "    if i==sum1:\n",
    "        print(i)\n",
    "    "
   ]
  },
  {
   "cell_type": "code",
   "execution_count": 4,
   "metadata": {},
   "outputs": [
    {
     "name": "stdout",
     "output_type": "stream",
     "text": [
      "enter n value28\n",
      "2\n",
      "7\n"
     ]
    }
   ],
   "source": [
    "#facters in prime numbers\n",
    "n=int(input(\"enter n value\"))\n",
    "for i in range(1,n+1):\n",
    "    if n%i==0:\n",
    "        count=0\n",
    "        for j in range(1,i+1):\n",
    "            if i%j==0:\n",
    "                count=count+1\n",
    "        if count==2:  \n",
    "            print(i)\n",
    "        "
   ]
  },
  {
   "cell_type": "code",
   "execution_count": null,
   "metadata": {},
   "outputs": [],
   "source": [
    " "
   ]
  }
 ],
 "metadata": {
  "kernelspec": {
   "display_name": "Python 3",
   "language": "python",
   "name": "python3"
  },
  "language_info": {
   "codemirror_mode": {
    "name": "ipython",
    "version": 3
   },
   "file_extension": ".py",
   "mimetype": "text/x-python",
   "name": "python",
   "nbconvert_exporter": "python",
   "pygments_lexer": "ipython3",
   "version": "3.8.5"
  }
 },
 "nbformat": 4,
 "nbformat_minor": 4
}
